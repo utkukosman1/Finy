{
 "cells": [
  {
   "cell_type": "code",
   "execution_count": 1,
   "id": "4ded2842",
   "metadata": {},
   "outputs": [
    {
     "data": {
      "text/plain": [
       "True"
      ]
     },
     "execution_count": 1,
     "metadata": {},
     "output_type": "execute_result"
    }
   ],
   "source": [
    "from dotenv import load_dotenv\n",
    "import os\n",
    "\n",
    "\n",
    "load_dotenv()\n"
   ]
  },
  {
   "cell_type": "code",
   "execution_count": 2,
   "id": "7607a3a9",
   "metadata": {},
   "outputs": [
    {
     "name": "stdout",
     "output_type": "stream",
     "text": [
      "sk-proj-vUysqKwzNfKrNUD3CCRYT3BlbkFJQB4UkU404DfpJJYS8xcG\n"
     ]
    }
   ],
   "source": [
    "api_key = os.getenv(\"OPENAI_API_KEY\")\n",
    "print(api_key)  # This should print your API key"
   ]
  },
  {
   "cell_type": "code",
   "execution_count": 3,
   "id": "a75310a0",
   "metadata": {},
   "outputs": [
    {
     "name": "stderr",
     "output_type": "stream",
     "text": [
      "USER_AGENT environment variable not set, consider setting it to identify your requests.\n"
     ]
    },
    {
     "data": {
      "text/plain": [
       "[Document(page_content='\\n\\n\\n\\n\\n\\nHSBC hangi hisseler için \"AL\" tavsiyesi verdi\\n\\n\\n\\n\\n\\n\\n\\n\\n\\n\\n\\n\\n\\n\\n\\n\\n\\n\\n\\n\\n\\n\\n\\n\\n\\n\\n\\n\\n\\n\\n\\n\\n\\n\\n\\n\\n\\n\\n\\n\\n\\n\\n\\n\\n\\n\\n  \\n\\n\\n\\n\\n\\n\\n\\n\\n\\nGünün HaberleriSitene EkleRSSGr.Altın2450.255Euro34.9882Dolar32.6226BIST10647.91MenüANA SAYFASON DAKİKAPİYASALARHALKA ARZHİSSE ÖNERİKRİPTOALTINDÖVİZENERJİYAZARLAR \\n\\nDİĞER \\n\\n\\n\\n\\nHABERLERHİSSE ÖNERİLERİHSBC hangi hisseler için \"AL\" tavsiyesi verdi\\n\\n\\n\\n\\n16:0829 Haziran 2024HSBC hangi hisseler için \"AL\" tavsiyesi verdiHSBC üçüncü çeyrek bilançolarının ardından BIST\\'in tüketici sektöründe faaliyet gösteren şirketlerini inceledi ve 5 şirket için AL tavsiyesi verdi.A+A-\\n\\n\\n\\n\\n\\n\\nHSBC üçüncü çeyrek bilançolarının ardından BIST\\'in tüketici sektöründe faaliyet gösteren şirketlerini inceledi ve 5 şirket için AL tavsiyesi vererek, hedef fiyatlarını yukarı çekti.Buna göre HSBC Anadolu Efes (AEFES) hisseleri için 300 TL hedef fiyat belirlerken, AL tavsiyesi verdiği hissede bir önceki hedef fiyatı 185 TL seviyesindeydi.\\xa0\\n\\n\\n\\n\\n\\n\\n\\nBanka Coca Cola içecek (CCOLA) hisseleri için hedef fiyatını 635 TL\\'den 1020 TL seviyesine çıkarırken yüzde 32,9 getiri potansiyeli taşıdığına inandığı hisseler için AL tavsiyesi verdi.HSBC, Nasdaq Borsası\\'nda işlem gören Hepsiburada (HEPS.O) hisseler için de hedef fiyatını 2,5 USD\\'den 3 USD\\'ye çıkardı ve yüzde 45,6 getiri potansiyeli taşıdığına inandığı hisseler için AL tavsiyesi verdi.HSBC, Mavi Jeans (MAVI) hisseleri için hedef fiyatını 85 TL\\'den 165 TL\\'ye çıkartırken yüzde 35 getiri potansiyeli taşıdığına inandığı hisseler için AL tavsiyesi verdi.Banka son olarak ULKER hisseleri için hedef fiyatını 110 TL\\'den 200 TL\\'ye çıkardı. Kurumun AL tavsiyesi verdiği şirketin hisseleri bu hedef fiyat itibarı ile yüzde 23,5 oranında getiri vaat ediyor.\\xa0 Etiketler : AEFES, CCOLA, HEPS.O, MAVI, ULKER,  Yatırım tavsiyeleriİlgili HaberlerBİST 100 içinde 1 Temmuz için GÜÇLÜ AL& GÜÇLÜ SAT sinyali veren hisselerBorsa İstanbul\\'da 28 Haziran Mayıs kapanış fiyatları ile teknik göstergeleri 1 Temmuz için \"GÜÇLÜ AL\", \"GÜÇLÜ SAT\" veren hisse senetleriCitigroup, Tav Havalimanları için hangi hedef fiyatı belirlediAltın önümüzdeki hafta ne olacak\\xa0Altın, ABD Dolarının güçlü görünümüne\\xa0rağmen 2.300 doların üzerinde kalmayı başardı. Teknik görünüm XAU/USD paritesinin yakın vadedeki kararsızlığını vurguluyor.\\xa0\\n\\n\\n\\n \\n\\n\\n\\n\\n\\n\\n\\n\\n\\n\\n\\n\\n \\n\\n\\n\\n\\n\\n\\nSON DAKİKA HABERLER2 saat önceBİST 100 içinde 1 Temmuz için GÜÇLÜ AL& GÜÇLÜ SAT sinyali veren hisseler3 saat önceİş Yatırım %47, %50 ve %66 artış beklediği 3 gıda sektörü hissesini açıkladı4 saat önceHSBC hangi hisseler için \"AL\" tavsiyesi verdi5 saat önceCiti\\'den TAVHL için yatırım tavsiyesi6 saat önceAltında bu hafta yönü belirleyecek unsurlar neler\\xa012 saat önceİlk 6 ayda S&P 500 ve Nasdaq\\'ı rekor seviyelere taşıyan 5 hisseEDİTÖRÜN SEÇTİKLERİPepe Unchained 2 Milyon Dolara KoşuyorHonor: Veri gizliliği yoksa yapay zeka bir hiçNokia 2,3 milyar dolara Infinera\\'yı satın alıyorArz riskleri artarken petrol fiyatları yükseliyorİsviçreli şirket Türkiye\\'de varlık alımı yapacak\\n\\n\\n\\n\\n\\n\\n\\n\\n\\n\\n\\n\\n\\n\\n\\n\\n\\n\\n\\n\\n\\n\\nKategorilerGündemHalka ArzRaporlarKoronaKriptoPiyasalarDövizDünyaSosyal Medya Facebook Twitter Linkedin Youtube RSSKurumsalKünyeBiz KimizİletişimReklamHukuki Şartlar Üye Kaydı Üye Girişi Mail Bülteni AramaTwitter\\'da Takip Et@Borsatek tarafından gönderilen tweetlerwww.borsatek.com’da yer alan yatırım bilgi, yorum ve tavsiyeleri yatırım danışmanlığı kapsamında değildir. Yatırım danışmanlığı hizmeti, aracı kurumlar, portföy yönetim şirketleri, mevduat kabul etmeyen bankalar ile müşteri arasında imzalanacak yatırım danışmanlığı sözleşmesi çerçevesinde sunulmaktadır. Burada yer alan yorum ve tavsiyeler, yorum ve tavsiyede bulunanların kişisel görüşlerine dayanmaktadır. Bu görüşler, mali durumunuz ile risk ve getiri tercihlerinize uygun olmayabilir. Bu nedenle sadece burada yer alan bilgilere dayanılarak yatırım kararı verilmesi, beklentilerinize uygun sonuçlar doğurmayabilir. BIST isim ve logosu \"koruma marka belgesi\" altında korunmakta olup izinsiz kullanılamaz, iktibas edilemez, değiştirilemez.BIST ismi altında açıklanan tüm bilgilerin telif hakları tamamen BIST\\'e ait olup, tekrar yayınlanamaz. Finansal veriler Matrix tarafndan sağlanmaktadır, 15 dakika gecikmelidir.Haber Scripti\\n\\n\\n', metadata={'source': 'https://www.borsatek.com/hsbc-hangi-hisseler-icin-al-tavsiyesi-verdi-110080h.htm', 'title': 'HSBC hangi hisseler için \"AL\" tavsiyesi verdi', 'description': \"HSBC üçüncü çeyrek bilançolarının ardından BIST'in tüketici sektöründe faaliyet gösteren şirketlerini inceledi ve 5 şirket için AL tavsiyesi verdi.\", 'language': 'tr'})]"
      ]
     },
     "execution_count": 3,
     "metadata": {},
     "output_type": "execute_result"
    }
   ],
   "source": [
    "from langchain_community.document_loaders import WebBaseLoader\n",
    "\n",
    "loader = WebBaseLoader(\"https://www.borsatek.com/hsbc-hangi-hisseler-icin-al-tavsiyesi-verdi-110080h.htm\")\n",
    "docs = loader.load()\n",
    "\n",
    "docs"
   ]
  },
  {
   "cell_type": "code",
   "execution_count": 4,
   "id": "d708acda",
   "metadata": {},
   "outputs": [],
   "source": [
    "from langchain_openai import OpenAIEmbeddings\n",
    "\n",
    "embeddings = OpenAIEmbeddings(api_key=os.environ['OPENAI_API_KEY'], model = \"text-embedding-ada-002\")"
   ]
  },
  {
   "cell_type": "code",
   "execution_count": 5,
   "id": "2898ba44",
   "metadata": {},
   "outputs": [
    {
     "data": {
      "text/plain": [
       "[Document(page_content='HSBC hangi hisseler için \"AL\" tavsiyesi verdi\\n\\n\\n\\n\\n\\n\\n\\n\\n\\n\\n\\n\\n\\n\\n\\n\\n\\n\\n\\n\\n\\n\\n\\n\\n\\n\\n\\n\\n\\n\\n\\n\\n\\n\\n\\n\\n\\n\\n\\n\\n\\n\\n\\n\\n\\n\\n  \\n\\n\\n\\n\\n\\n\\n\\n\\n\\nGünün HaberleriSitene EkleRSSGr.Altın2450.255Euro34.9882Dolar32.6226BIST10647.91MenüANA SAYFASON DAKİKAPİYASALARHALKA ARZHİSSE ÖNERİKRİPTOALTINDÖVİZENERJİYAZARLAR \\n\\nDİĞER \\n\\n\\n\\n\\nHABERLERHİSSE ÖNERİLERİHSBC hangi hisseler için \"AL\" tavsiyesi verdi\\n\\n\\n\\n\\n16:0829 Haziran 2024HSBC hangi hisseler için \"AL\" tavsiyesi verdiHSBC üçüncü çeyrek bilançolarının ardından BIST\\'in tüketici sektöründe faaliyet gösteren şirketlerini inceledi ve 5 şirket için AL tavsiyesi verdi.A+A-\\n\\n\\n\\n\\n\\n\\nHSBC üçüncü çeyrek bilançolarının ardından BIST\\'in tüketici sektöründe faaliyet gösteren şirketlerini inceledi ve 5 şirket için AL tavsiyesi vererek, hedef fiyatlarını yukarı çekti.Buna göre HSBC Anadolu Efes (AEFES) hisseleri için 300 TL hedef fiyat belirlerken, AL tavsiyesi verdiği hissede bir önceki hedef fiyatı 185 TL seviyesindeydi.\\xa0\\n\\n\\n\\n\\n\\n\\n\\nBanka Coca Cola içecek (CCOLA) hisseleri için hedef fiyatını 635 TL\\'den 1020 TL seviyesine çıkarırken yüzde 32,9 getiri potansiyeli taşıdığına inandığı hisseler için AL tavsiyesi verdi.HSBC, Nasdaq Borsası\\'nda işlem gören Hepsiburada (HEPS.O) hisseler için de hedef fiyatını 2,5 USD\\'den 3 USD\\'ye çıkardı ve yüzde 45,6 getiri potansiyeli taşıdığına inandığı hisseler için AL tavsiyesi verdi.HSBC, Mavi Jeans (MAVI) hisseleri için hedef fiyatını 85 TL\\'den 165 TL\\'ye çıkartırken yüzde 35 getiri potansiyeli taşıdığına inandığı hisseler için AL tavsiyesi verdi.Banka son olarak ULKER hisseleri için hedef fiyatını 110 TL\\'den 200 TL\\'ye çıkardı. Kurumun AL tavsiyesi verdiği şirketin hisseleri bu hedef fiyat itibarı ile yüzde 23,5 oranında getiri vaat ediyor.\\xa0 Etiketler : AEFES, CCOLA, HEPS.O, MAVI, ULKER,  Yatırım tavsiyeleriİlgili HaberlerBİST 100 içinde 1 Temmuz için GÜÇLÜ AL& GÜÇLÜ SAT sinyali veren hisselerBorsa İstanbul\\'da 28 Haziran Mayıs kapanış fiyatları ile teknik göstergeleri 1 Temmuz için \"GÜÇLÜ AL\", \"GÜÇLÜ SAT\" veren hisse senetleriCitigroup, Tav Havalimanları için hangi hedef fiyatı belirlediAltın önümüzdeki hafta ne olacak\\xa0Altın, ABD Dolarının güçlü görünümüne\\xa0rağmen 2.300 doların üzerinde kalmayı başardı. Teknik görünüm XAU/USD paritesinin yakın vadedeki kararsızlığını vurguluyor.\\xa0\\n\\n\\n\\n \\n\\n\\n\\n\\n\\n\\n\\n\\n\\n\\n\\n\\n \\n\\n\\n\\n\\n\\n\\nSON DAKİKA HABERLER2 saat önceBİST 100 içinde 1 Temmuz için GÜÇLÜ AL& GÜÇLÜ SAT sinyali veren hisseler3 saat önceİş Yatırım %47, %50 ve %66 artış beklediği 3 gıda sektörü hissesini açıkladı4 saat önceHSBC hangi hisseler için \"AL\" tavsiyesi verdi5 saat önceCiti\\'den TAVHL için yatırım tavsiyesi6 saat önceAltında bu hafta yönü belirleyecek unsurlar neler\\xa012 saat önceİlk 6 ayda S&P 500 ve Nasdaq\\'ı rekor seviyelere taşıyan 5 hisseEDİTÖRÜN SEÇTİKLERİPepe Unchained 2 Milyon Dolara KoşuyorHonor: Veri gizliliği yoksa yapay zeka bir hiçNokia 2,3 milyar dolara Infinera\\'yı satın alıyorArz riskleri artarken petrol fiyatları yükseliyorİsviçreli şirket Türkiye\\'de varlık alımı yapacak', metadata={'source': 'https://www.borsatek.com/hsbc-hangi-hisseler-icin-al-tavsiyesi-verdi-110080h.htm', 'title': 'HSBC hangi hisseler için \"AL\" tavsiyesi verdi', 'description': \"HSBC üçüncü çeyrek bilançolarının ardından BIST'in tüketici sektöründe faaliyet gösteren şirketlerini inceledi ve 5 şirket için AL tavsiyesi verdi.\", 'language': 'tr'}),\n",
       " Document(page_content='KategorilerGündemHalka ArzRaporlarKoronaKriptoPiyasalarDövizDünyaSosyal Medya Facebook Twitter Linkedin Youtube RSSKurumsalKünyeBiz KimizİletişimReklamHukuki Şartlar Üye Kaydı Üye Girişi Mail Bülteni AramaTwitter\\'da Takip Et@Borsatek tarafından gönderilen tweetlerwww.borsatek.com’da yer alan yatırım bilgi, yorum ve tavsiyeleri yatırım danışmanlığı kapsamında değildir. Yatırım danışmanlığı hizmeti, aracı kurumlar, portföy yönetim şirketleri, mevduat kabul etmeyen bankalar ile müşteri arasında imzalanacak yatırım danışmanlığı sözleşmesi çerçevesinde sunulmaktadır. Burada yer alan yorum ve tavsiyeler, yorum ve tavsiyede bulunanların kişisel görüşlerine dayanmaktadır. Bu görüşler, mali durumunuz ile risk ve getiri tercihlerinize uygun olmayabilir. Bu nedenle sadece burada yer alan bilgilere dayanılarak yatırım kararı verilmesi, beklentilerinize uygun sonuçlar doğurmayabilir. BIST isim ve logosu \"koruma marka belgesi\" altında korunmakta olup izinsiz kullanılamaz, iktibas edilemez, değiştirilemez.BIST ismi altında açıklanan tüm bilgilerin telif hakları tamamen BIST\\'e ait olup, tekrar yayınlanamaz. Finansal veriler Matrix tarafndan sağlanmaktadır, 15 dakika gecikmelidir.Haber Scripti', metadata={'source': 'https://www.borsatek.com/hsbc-hangi-hisseler-icin-al-tavsiyesi-verdi-110080h.htm', 'title': 'HSBC hangi hisseler için \"AL\" tavsiyesi verdi', 'description': \"HSBC üçüncü çeyrek bilançolarının ardından BIST'in tüketici sektöründe faaliyet gösteren şirketlerini inceledi ve 5 şirket için AL tavsiyesi verdi.\", 'language': 'tr'})]"
      ]
     },
     "execution_count": 5,
     "metadata": {},
     "output_type": "execute_result"
    }
   ],
   "source": [
    "from langchain.text_splitter import RecursiveCharacterTextSplitter\n",
    "text_splitter = RecursiveCharacterTextSplitter()\n",
    "\n",
    "documents = text_splitter.split_documents(docs)\n",
    "\n",
    "documents"
   ]
  },
  {
   "cell_type": "code",
   "execution_count": 6,
   "id": "8d179832",
   "metadata": {},
   "outputs": [
    {
     "name": "stderr",
     "output_type": "stream",
     "text": [
      "c:\\Users\\utkut\\anaconda3\\envs\\finy\\Lib\\site-packages\\langchain_core\\_api\\deprecation.py:139: LangChainDeprecationWarning: The method `BaseRetriever.get_relevant_documents` was deprecated in langchain-core 0.1.46 and will be removed in 0.3.0. Use invoke instead.\n",
      "  warn_deprecated(\n"
     ]
    },
    {
     "data": {
      "text/plain": [
       "Document(page_content='HSBC hangi hisseler için \"AL\" tavsiyesi verdi\\n\\n\\n\\n\\n\\n\\n\\n\\n\\n\\n\\n\\n\\n\\n\\n\\n\\n\\n\\n\\n\\n\\n\\n\\n\\n\\n\\n\\n\\n\\n\\n\\n\\n\\n\\n\\n\\n\\n\\n\\n\\n\\n\\n\\n\\n\\n  \\n\\n\\n\\n\\n\\n\\n\\n\\n\\nGünün HaberleriSitene EkleRSSGr.Altın2450.255Euro34.9882Dolar32.6226BIST10647.91MenüANA SAYFASON DAKİKAPİYASALARHALKA ARZHİSSE ÖNERİKRİPTOALTINDÖVİZENERJİYAZARLAR \\n\\nDİĞER \\n\\n\\n\\n\\nHABERLERHİSSE ÖNERİLERİHSBC hangi hisseler için \"AL\" tavsiyesi verdi\\n\\n\\n\\n\\n16:0829 Haziran 2024HSBC hangi hisseler için \"AL\" tavsiyesi verdiHSBC üçüncü çeyrek bilançolarının ardından BIST\\'in tüketici sektöründe faaliyet gösteren şirketlerini inceledi ve 5 şirket için AL tavsiyesi verdi.A+A-\\n\\n\\n\\n\\n\\n\\nHSBC üçüncü çeyrek bilançolarının ardından BIST\\'in tüketici sektöründe faaliyet gösteren şirketlerini inceledi ve 5 şirket için AL tavsiyesi vererek, hedef fiyatlarını yukarı çekti.Buna göre HSBC Anadolu Efes (AEFES) hisseleri için 300 TL hedef fiyat belirlerken, AL tavsiyesi verdiği hissede bir önceki hedef fiyatı 185 TL seviyesindeydi.\\xa0\\n\\n\\n\\n\\n\\n\\n\\nBanka Coca Cola içecek (CCOLA) hisseleri için hedef fiyatını 635 TL\\'den 1020 TL seviyesine çıkarırken yüzde 32,9 getiri potansiyeli taşıdığına inandığı hisseler için AL tavsiyesi verdi.HSBC, Nasdaq Borsası\\'nda işlem gören Hepsiburada (HEPS.O) hisseler için de hedef fiyatını 2,5 USD\\'den 3 USD\\'ye çıkardı ve yüzde 45,6 getiri potansiyeli taşıdığına inandığı hisseler için AL tavsiyesi verdi.HSBC, Mavi Jeans (MAVI) hisseleri için hedef fiyatını 85 TL\\'den 165 TL\\'ye çıkartırken yüzde 35 getiri potansiyeli taşıdığına inandığı hisseler için AL tavsiyesi verdi.Banka son olarak ULKER hisseleri için hedef fiyatını 110 TL\\'den 200 TL\\'ye çıkardı. Kurumun AL tavsiyesi verdiği şirketin hisseleri bu hedef fiyat itibarı ile yüzde 23,5 oranında getiri vaat ediyor.\\xa0 Etiketler : AEFES, CCOLA, HEPS.O, MAVI, ULKER,  Yatırım tavsiyeleriİlgili HaberlerBİST 100 içinde 1 Temmuz için GÜÇLÜ AL& GÜÇLÜ SAT sinyali veren hisselerBorsa İstanbul\\'da 28 Haziran Mayıs kapanış fiyatları ile teknik göstergeleri 1 Temmuz için \"GÜÇLÜ AL\", \"GÜÇLÜ SAT\" veren hisse senetleriCitigroup, Tav Havalimanları için hangi hedef fiyatı belirlediAltın önümüzdeki hafta ne olacak\\xa0Altın, ABD Dolarının güçlü görünümüne\\xa0rağmen 2.300 doların üzerinde kalmayı başardı. Teknik görünüm XAU/USD paritesinin yakın vadedeki kararsızlığını vurguluyor.\\xa0\\n\\n\\n\\n \\n\\n\\n\\n\\n\\n\\n\\n\\n\\n\\n\\n\\n \\n\\n\\n\\n\\n\\n\\nSON DAKİKA HABERLER2 saat önceBİST 100 içinde 1 Temmuz için GÜÇLÜ AL& GÜÇLÜ SAT sinyali veren hisseler3 saat önceİş Yatırım %47, %50 ve %66 artış beklediği 3 gıda sektörü hissesini açıkladı4 saat önceHSBC hangi hisseler için \"AL\" tavsiyesi verdi5 saat önceCiti\\'den TAVHL için yatırım tavsiyesi6 saat önceAltında bu hafta yönü belirleyecek unsurlar neler\\xa012 saat önceİlk 6 ayda S&P 500 ve Nasdaq\\'ı rekor seviyelere taşıyan 5 hisseEDİTÖRÜN SEÇTİKLERİPepe Unchained 2 Milyon Dolara KoşuyorHonor: Veri gizliliği yoksa yapay zeka bir hiçNokia 2,3 milyar dolara Infinera\\'yı satın alıyorArz riskleri artarken petrol fiyatları yükseliyorİsviçreli şirket Türkiye\\'de varlık alımı yapacak', metadata={'source': 'https://www.borsatek.com/hsbc-hangi-hisseler-icin-al-tavsiyesi-verdi-110080h.htm', 'title': 'HSBC hangi hisseler için \"AL\" tavsiyesi verdi', 'description': \"HSBC üçüncü çeyrek bilançolarının ardından BIST'in tüketici sektöründe faaliyet gösteren şirketlerini inceledi ve 5 şirket için AL tavsiyesi verdi.\", 'language': 'tr'})"
      ]
     },
     "execution_count": 6,
     "metadata": {},
     "output_type": "execute_result"
    }
   ],
   "source": [
    "from langchain.vectorstores import FAISS, Qdrant\n",
    "vector = FAISS.from_documents(documents,embeddings)\n",
    "\n",
    "retriever = vector.as_retriever()\n",
    "\n",
    "retriever.get_relevant_documents(\n",
    "                              \"HSBC hangi hisseler için al dedi?\")[0]"
   ]
  },
  {
   "cell_type": "code",
   "execution_count": 7,
   "id": "83dda285",
   "metadata": {},
   "outputs": [
    {
     "data": {
      "text/plain": [
       "AIMessage(content=\"Türkiye, Asya ve Avrupa kıtaları arasında köprü konumunda olan bir ülkedir. Coğrafi olarak Anadolu ve Trakya olmak üzere iki ana bölgeden oluşmaktadır. Batıda Ege Denizi, güneyde Akdeniz, doğuda Karadeniz ve kuzeyde ise Karadeniz bulunmaktadır. Türkiye'n\", response_metadata={'token_usage': {'completion_tokens': 100, 'prompt_tokens': 16, 'total_tokens': 116}, 'model_name': 'gpt-3.5-turbo-0125', 'system_fingerprint': None, 'finish_reason': 'length', 'logprobs': None}, id='run-bb764991-17c8-4cd1-8355-a6d612776593-0', usage_metadata={'input_tokens': 16, 'output_tokens': 100, 'total_tokens': 116})"
      ]
     },
     "execution_count": 7,
     "metadata": {},
     "output_type": "execute_result"
    }
   ],
   "source": [
    "from langchain_openai import OpenAI, ChatOpenAI\n",
    "llm = ChatOpenAI(model_name = \"gpt-3.5-turbo-0125\", temperature = 0.7, max_tokens = 100)\n",
    "\n",
    "text = \"Selam, Türkiye nerdedir?\"\n",
    "\n",
    "llm.invoke(text)"
   ]
  },
  {
   "cell_type": "code",
   "execution_count": 14,
   "id": "44fb0a4f",
   "metadata": {},
   "outputs": [],
   "source": [
    "from langchain import PromptTemplate, LLMChain\n",
    "\n",
    "\n",
    "template = \"\"\"\n",
    "### [INST] \n",
    "Instruction: Sen kullanıcıların şirketler ve piyasalar hakkında bilgi alabildiği, portföylerini yorumlayabilen uzman \n",
    "bir finansal asistansın. Aşağıda soruların sorulacağı taslak mevcuttur, değerli görüşlerinizi bu taslağa göre belirtmen istenmektedir:\n",
    "\n",
    "{context}\n",
    "\n",
    "### QUESTION:\n",
    "{question} \n",
    "\n",
    "[/INST]\n",
    " \"\"\"\n",
    "\n",
    "rag_prompt = PromptTemplate(template=template, input_variables=[\"context\", \"question\"])\n",
    "\n",
    "\n",
    "llm_chain = LLMChain(prompt=rag_prompt, llm=llm, verbose = True)\n"
   ]
  },
  {
   "cell_type": "code",
   "execution_count": 16,
   "id": "034c5571",
   "metadata": {},
   "outputs": [
    {
     "name": "stdout",
     "output_type": "stream",
     "text": [
      "\n",
      "\n",
      "\u001b[1m> Entering new LLMChain chain...\u001b[0m\n",
      "Prompt after formatting:\n",
      "\u001b[32;1m\u001b[1;3m\n",
      "### [INST] \n",
      "Instruction: Sen kullanıcıların şirketler ve piyasalar hakkında bilgi alabildiği, portföylerini yorumlayabilen uzman \n",
      "bir finansal asistansın. Aşağıda soruların sorulacağı taslak mevcuttur, değerli görüşlerinizi bu taslağa göre belirtmen istenmektedir:\n",
      "\n",
      "[Document(page_content='HSBC hangi hisseler için \"AL\" tavsiyesi verdi\\n\\n\\n\\n\\n\\n\\n\\n\\n\\n\\n\\n\\n\\n\\n\\n\\n\\n\\n\\n\\n\\n\\n\\n\\n\\n\\n\\n\\n\\n\\n\\n\\n\\n\\n\\n\\n\\n\\n\\n\\n\\n\\n\\n\\n\\n\\n  \\n\\n\\n\\n\\n\\n\\n\\n\\n\\nGünün HaberleriSitene EkleRSSGr.Altın2450.255Euro34.9882Dolar32.6226BIST10647.91MenüANA SAYFASON DAKİKAPİYASALARHALKA ARZHİSSE ÖNERİKRİPTOALTINDÖVİZENERJİYAZARLAR \\n\\nDİĞER \\n\\n\\n\\n\\nHABERLERHİSSE ÖNERİLERİHSBC hangi hisseler için \"AL\" tavsiyesi verdi\\n\\n\\n\\n\\n16:0829 Haziran 2024HSBC hangi hisseler için \"AL\" tavsiyesi verdiHSBC üçüncü çeyrek bilançolarının ardından BIST\\'in tüketici sektöründe faaliyet gösteren şirketlerini inceledi ve 5 şirket için AL tavsiyesi verdi.A+A-\\n\\n\\n\\n\\n\\n\\nHSBC üçüncü çeyrek bilançolarının ardından BIST\\'in tüketici sektöründe faaliyet gösteren şirketlerini inceledi ve 5 şirket için AL tavsiyesi vererek, hedef fiyatlarını yukarı çekti.Buna göre HSBC Anadolu Efes (AEFES) hisseleri için 300 TL hedef fiyat belirlerken, AL tavsiyesi verdiği hissede bir önceki hedef fiyatı 185 TL seviyesindeydi.\\xa0\\n\\n\\n\\n\\n\\n\\n\\nBanka Coca Cola içecek (CCOLA) hisseleri için hedef fiyatını 635 TL\\'den 1020 TL seviyesine çıkarırken yüzde 32,9 getiri potansiyeli taşıdığına inandığı hisseler için AL tavsiyesi verdi.HSBC, Nasdaq Borsası\\'nda işlem gören Hepsiburada (HEPS.O) hisseler için de hedef fiyatını 2,5 USD\\'den 3 USD\\'ye çıkardı ve yüzde 45,6 getiri potansiyeli taşıdığına inandığı hisseler için AL tavsiyesi verdi.HSBC, Mavi Jeans (MAVI) hisseleri için hedef fiyatını 85 TL\\'den 165 TL\\'ye çıkartırken yüzde 35 getiri potansiyeli taşıdığına inandığı hisseler için AL tavsiyesi verdi.Banka son olarak ULKER hisseleri için hedef fiyatını 110 TL\\'den 200 TL\\'ye çıkardı. Kurumun AL tavsiyesi verdiği şirketin hisseleri bu hedef fiyat itibarı ile yüzde 23,5 oranında getiri vaat ediyor.\\xa0 Etiketler : AEFES, CCOLA, HEPS.O, MAVI, ULKER,  Yatırım tavsiyeleriİlgili HaberlerBİST 100 içinde 1 Temmuz için GÜÇLÜ AL& GÜÇLÜ SAT sinyali veren hisselerBorsa İstanbul\\'da 28 Haziran Mayıs kapanış fiyatları ile teknik göstergeleri 1 Temmuz için \"GÜÇLÜ AL\", \"GÜÇLÜ SAT\" veren hisse senetleriCitigroup, Tav Havalimanları için hangi hedef fiyatı belirlediAltın önümüzdeki hafta ne olacak\\xa0Altın, ABD Dolarının güçlü görünümüne\\xa0rağmen 2.300 doların üzerinde kalmayı başardı. Teknik görünüm XAU/USD paritesinin yakın vadedeki kararsızlığını vurguluyor.\\xa0\\n\\n\\n\\n \\n\\n\\n\\n\\n\\n\\n\\n\\n\\n\\n\\n\\n \\n\\n\\n\\n\\n\\n\\nSON DAKİKA HABERLER2 saat önceBİST 100 içinde 1 Temmuz için GÜÇLÜ AL& GÜÇLÜ SAT sinyali veren hisseler3 saat önceİş Yatırım %47, %50 ve %66 artış beklediği 3 gıda sektörü hissesini açıkladı4 saat önceHSBC hangi hisseler için \"AL\" tavsiyesi verdi5 saat önceCiti\\'den TAVHL için yatırım tavsiyesi6 saat önceAltında bu hafta yönü belirleyecek unsurlar neler\\xa012 saat önceİlk 6 ayda S&P 500 ve Nasdaq\\'ı rekor seviyelere taşıyan 5 hisseEDİTÖRÜN SEÇTİKLERİPepe Unchained 2 Milyon Dolara KoşuyorHonor: Veri gizliliği yoksa yapay zeka bir hiçNokia 2,3 milyar dolara Infinera\\'yı satın alıyorArz riskleri artarken petrol fiyatları yükseliyorİsviçreli şirket Türkiye\\'de varlık alımı yapacak', metadata={'source': 'https://www.borsatek.com/hsbc-hangi-hisseler-icin-al-tavsiyesi-verdi-110080h.htm', 'title': 'HSBC hangi hisseler için \"AL\" tavsiyesi verdi', 'description': \"HSBC üçüncü çeyrek bilançolarının ardından BIST'in tüketici sektöründe faaliyet gösteren şirketlerini inceledi ve 5 şirket için AL tavsiyesi verdi.\", 'language': 'tr'}), Document(page_content='KategorilerGündemHalka ArzRaporlarKoronaKriptoPiyasalarDövizDünyaSosyal Medya Facebook Twitter Linkedin Youtube RSSKurumsalKünyeBiz KimizİletişimReklamHukuki Şartlar Üye Kaydı Üye Girişi Mail Bülteni AramaTwitter\\'da Takip Et@Borsatek tarafından gönderilen tweetlerwww.borsatek.com’da yer alan yatırım bilgi, yorum ve tavsiyeleri yatırım danışmanlığı kapsamında değildir. Yatırım danışmanlığı hizmeti, aracı kurumlar, portföy yönetim şirketleri, mevduat kabul etmeyen bankalar ile müşteri arasında imzalanacak yatırım danışmanlığı sözleşmesi çerçevesinde sunulmaktadır. Burada yer alan yorum ve tavsiyeler, yorum ve tavsiyede bulunanların kişisel görüşlerine dayanmaktadır. Bu görüşler, mali durumunuz ile risk ve getiri tercihlerinize uygun olmayabilir. Bu nedenle sadece burada yer alan bilgilere dayanılarak yatırım kararı verilmesi, beklentilerinize uygun sonuçlar doğurmayabilir. BIST isim ve logosu \"koruma marka belgesi\" altında korunmakta olup izinsiz kullanılamaz, iktibas edilemez, değiştirilemez.BIST ismi altında açıklanan tüm bilgilerin telif hakları tamamen BIST\\'e ait olup, tekrar yayınlanamaz. Finansal veriler Matrix tarafndan sağlanmaktadır, 15 dakika gecikmelidir.Haber Scripti', metadata={'source': 'https://www.borsatek.com/hsbc-hangi-hisseler-icin-al-tavsiyesi-verdi-110080h.htm', 'title': 'HSBC hangi hisseler için \"AL\" tavsiyesi verdi', 'description': \"HSBC üçüncü çeyrek bilançolarının ardından BIST'in tüketici sektöründe faaliyet gösteren şirketlerini inceledi ve 5 şirket için AL tavsiyesi verdi.\", 'language': 'tr'})]\n",
      "\n",
      "### QUESTION:\n",
      "HSBC ne öneriyor? \n",
      "\n",
      "[/INST]\n",
      " \u001b[0m\n",
      "\n",
      "\u001b[1m> Finished chain.\u001b[0m\n",
      "HSBC, üçüncü çeyrek bilançolarının ardından BIST'te faaliyet gösteren tüketici sektörü şirketlerini inceledi ve Anadolu Efes (AEFES), Coca Cola içecek (CCOLA), Hepsiburada (HEPS.O), Mavi Jeans (MAVI) ve Ülker hisseleri için \"AL\" tavsiyesi verdi.\n"
     ]
    }
   ],
   "source": [
    "query = \"HSBC ne öneriyor?\"\n",
    "resp = llm_chain.invoke(\n",
    "    input={\"question\":query,\n",
    "           \"context\": documents\n",
    "          }\n",
    ")\n",
    "print(resp['text'])"
   ]
  }
 ],
 "metadata": {
  "kernelspec": {
   "display_name": "Python 3",
   "language": "python",
   "name": "python3"
  },
  "language_info": {
   "codemirror_mode": {
    "name": "ipython",
    "version": 3
   },
   "file_extension": ".py",
   "mimetype": "text/x-python",
   "name": "python",
   "nbconvert_exporter": "python",
   "pygments_lexer": "ipython3",
   "version": "3.12.4"
  }
 },
 "nbformat": 4,
 "nbformat_minor": 5
}
